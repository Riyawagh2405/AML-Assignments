{
 "cells": [
  {
   "cell_type": "code",
   "execution_count": 1,
   "id": "286474af-5e69-4fe8-830e-0f5e1de0c8bd",
   "metadata": {},
   "outputs": [],
   "source": [
    "# Step 1: Import necessary libraries\n",
    "import pandas as pd\n",
    "from sklearn.feature_extraction.text import TfidfVectorizer\n",
    "from sklearn.metrics.pairwise import linear_kernel"
   ]
  },
  {
   "cell_type": "code",
   "execution_count": 3,
   "id": "5d9423ed-344a-4831-b3d4-e59d237d5bfa",
   "metadata": {},
   "outputs": [],
   "source": [
    "# Step 2: Load the dataset\n",
    "df = pd.read_csv('data.csv', encoding='ISO-8859-1')"
   ]
  },
  {
   "cell_type": "code",
   "execution_count": 5,
   "id": "18e5cc5a-cc34-4e69-b7b7-98a86d9d6022",
   "metadata": {},
   "outputs": [],
   "source": [
    "# Step 3: Preprocess\n",
    "df.dropna(subset=['Description'], inplace=True)\n",
    "df = df.drop_duplicates(subset=['Description'])"
   ]
  },
  {
   "cell_type": "code",
   "execution_count": 7,
   "id": "4faeecbd-ccdd-4036-8e9a-a073d9995604",
   "metadata": {},
   "outputs": [],
   "source": [
    "# Optional: Reset index\n",
    "df = df.reset_index(drop=True)"
   ]
  },
  {
   "cell_type": "code",
   "execution_count": 9,
   "id": "4f24463d-9679-40bc-be40-e1c3c950695c",
   "metadata": {},
   "outputs": [],
   "source": [
    "# Step 4: TF-IDF Vectorization on product descriptions\n",
    "tfidf = TfidfVectorizer(stop_words='english')\n",
    "tfidf_matrix = tfidf.fit_transform(df['Description'])"
   ]
  },
  {
   "cell_type": "code",
   "execution_count": 11,
   "id": "8cff8630-c3f8-4a7f-8a8f-333fefdee182",
   "metadata": {},
   "outputs": [],
   "source": [
    "# Step 5: Compute cosine similarity between items\n",
    "cosine_sim = linear_kernel(tfidf_matrix, tfidf_matrix)"
   ]
  },
  {
   "cell_type": "code",
   "execution_count": 13,
   "id": "ef967d4c-c6a4-4eab-b74b-cb4247aba0a3",
   "metadata": {},
   "outputs": [],
   "source": [
    "# Step 6: Create a mapping of product index to name\n",
    "indices = pd.Series(df.index, index=df['Description']).drop_duplicates()"
   ]
  },
  {
   "cell_type": "code",
   "execution_count": 15,
   "id": "96c515ea-4a3b-4b4d-a565-e6f042e848e0",
   "metadata": {},
   "outputs": [],
   "source": [
    "# Step 7: Recommendation function\n",
    "def recommend_products(description, cosine_sim=cosine_sim):\n",
    "    idx = indices.get(description)\n",
    "    if idx is None:\n",
    "        return \"Product description not found.\"\n",
    "    \n",
    "    sim_scores = list(enumerate(cosine_sim[idx]))\n",
    "    sim_scores = sorted(sim_scores, key=lambda x: x[1], reverse=True)\n",
    "    sim_scores = sim_scores[1:6]  # Top 5 similar\n",
    "\n",
    "    product_indices = [i[0] for i in sim_scores]\n",
    "    return df['Description'].iloc[product_indices]"
   ]
  },
  {
   "cell_type": "code",
   "execution_count": 17,
   "id": "32a13559-309f-4d26-9550-0f6a11f1755e",
   "metadata": {},
   "outputs": [
    {
     "name": "stdout",
     "output_type": "stream",
     "text": [
      "Recommended Products:\n",
      "\n",
      "4036     PINK HANGING HEART T-LIGHT HOLDER\n",
      "58        RED HANGING HEART T-LIGHT HOLDER\n",
      "4221    CREAM HANGING HEART T-LIGHT HOLDER\n",
      "167      HANGING HEART ZINC T-LIGHT HOLDER\n",
      "505                  HEART T-LIGHT HOLDER \n",
      "Name: Description, dtype: object\n"
     ]
    }
   ],
   "source": [
    "# Example usage\n",
    "print(\"Recommended Products:\\n\")\n",
    "print(recommend_products('WHITE HANGING HEART T-LIGHT HOLDER'))"
   ]
  },
  {
   "cell_type": "code",
   "execution_count": 19,
   "id": "013df086-5ce1-408d-87b6-c3e102873ed4",
   "metadata": {},
   "outputs": [],
   "source": [
    "from sklearn.metrics import precision_score, recall_score\n",
    "from tqdm import tqdm\n",
    "\n",
    "# Step 1: Create user-item mapping from transaction data\n",
    "user_item_df = df[['CustomerID', 'Description']].dropna()\n",
    "user_items = user_item_df.groupby('CustomerID')['Description'].apply(set)"
   ]
  },
  {
   "cell_type": "code",
   "execution_count": 21,
   "id": "b37cffc3-71e9-49d3-8f60-0add3604b032",
   "metadata": {},
   "outputs": [],
   "source": [
    "# Step 2: Recommend top-K similar items for each product a user interacted with\n",
    "def get_top_k_similar_items(product, k=5):\n",
    "    idx = indices.get(product)\n",
    "    if idx is None:\n",
    "        return []\n",
    "    sim_scores = list(enumerate(cosine_sim[idx]))\n",
    "    sim_scores = sorted(sim_scores, key=lambda x: x[1], reverse=True)\n",
    "    top_k = sim_scores[1:k+1]  # exclude self\n",
    "    return df['Description'].iloc[[i[0] for i in top_k]].tolist()\n"
   ]
  },
  {
   "cell_type": "code",
   "execution_count": 23,
   "id": "7e52c103-5cc3-41d7-89e0-bf3a2a4b704c",
   "metadata": {},
   "outputs": [
    {
     "name": "stderr",
     "output_type": "stream",
     "text": [
      "Evaluating: 100it [00:01, 81.11it/s]\n"
     ]
    }
   ],
   "source": [
    "# Step 3: Evaluate over a subset of users\n",
    "k = 5\n",
    "precisions = []\n",
    "recalls = []\n",
    "users_sample = user_items.sample(n=100, random_state=42)  # sample users to limit computation\n",
    "\n",
    "for user, items in tqdm(users_sample.items(), desc=\"Evaluating\"):\n",
    "    recommended = set()\n",
    "    ground_truth = set(items)\n",
    "    \n",
    "    for item in items:\n",
    "        recommended.update(get_top_k_similar_items(item, k=k))\n",
    "    \n",
    "    recommended = set(recommended) - set([None])\n",
    "    true_positives = recommended & ground_truth\n",
    "    \n",
    "    precision = len(true_positives) / len(recommended) if recommended else 0\n",
    "    recall = len(true_positives) / len(ground_truth) if ground_truth else 0\n",
    "    \n",
    "    precisions.append(precision)\n",
    "    recalls.append(recall)"
   ]
  },
  {
   "cell_type": "code",
   "execution_count": 25,
   "id": "33ae8a48-71c9-4d80-a701-95055b680c31",
   "metadata": {},
   "outputs": [
    {
     "name": "stdout",
     "output_type": "stream",
     "text": [
      "\n",
      "Average Precision@5: 0.0385\n",
      "Average Recall@5: 0.1588\n"
     ]
    }
   ],
   "source": [
    "\n",
    "# Step 4: Print average metrics\n",
    "avg_precision = sum(precisions) / len(precisions)\n",
    "avg_recall = sum(recalls) / len(recalls)\n",
    "\n",
    "print(f\"\\nAverage Precision@{k}: {avg_precision:.4f}\")\n",
    "print(f\"Average Recall@{k}: {avg_recall:.4f}\")"
   ]
  },
  {
   "cell_type": "code",
   "execution_count": null,
   "id": "ba339628-b31b-4ae4-a7a4-4269ebcdc9fc",
   "metadata": {},
   "outputs": [],
   "source": []
  }
 ],
 "metadata": {
  "kernelspec": {
   "display_name": "Python 3 (ipykernel)",
   "language": "python",
   "name": "python3"
  },
  "language_info": {
   "codemirror_mode": {
    "name": "ipython",
    "version": 3
   },
   "file_extension": ".py",
   "mimetype": "text/x-python",
   "name": "python",
   "nbconvert_exporter": "python",
   "pygments_lexer": "ipython3",
   "version": "3.12.3"
  }
 },
 "nbformat": 4,
 "nbformat_minor": 5
}
